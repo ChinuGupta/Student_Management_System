{
  "nbformat": 4,
  "nbformat_minor": 0,
  "metadata": {
    "colab": {
      "provenance": [],
      "authorship_tag": "ABX9TyNPP7b+1tw+Tju+7EYUaZx+",
      "include_colab_link": true
    },
    "kernelspec": {
      "name": "python3",
      "display_name": "Python 3"
    },
    "language_info": {
      "name": "python"
    }
  },
  "cells": [
    {
      "cell_type": "markdown",
      "metadata": {
        "id": "view-in-github",
        "colab_type": "text"
      },
      "source": [
        "<a href=\"https://colab.research.google.com/github/ChinuGupta/Student_Management_System/blob/main/Student_Management_System.ipynb\" target=\"_parent\"><img src=\"https://colab.research.google.com/assets/colab-badge.svg\" alt=\"Open In Colab\"/></a>"
      ]
    },
    {
      "cell_type": "code",
      "execution_count": 29,
      "metadata": {
        "id": "CnGnHTMXjRqt"
      },
      "outputs": [],
      "source": [
        "Name=[]\n",
        "Roll_Number=[]\n",
        "Father_Name=[]\n",
        "Phone_Number=[]"
      ]
    },
    {
      "cell_type": "code",
      "source": [
        "#Accept->function which accept the new Record or data\n",
        "flag=0\n",
        "\n",
        "def accept():\n",
        "  global flag\n",
        "  name=input(\"Enter the name of the student\\t\")\n",
        "  roll=int(input(\"Enter the roll number of the student\\t\") )\n",
        "  fname=input(\"Enter the father's name of the student\\t\")\n",
        "  phone=int(input(\"Enter the phone number of the student\\t\") )\n",
        "  Name.append(name)\n",
        "  Roll_Number.append(roll)\n",
        "  Father_Name.append( fname)\n",
        "  Phone_Number.append(phone)\n",
        "  flag=1\n",
        "\n",
        "  if(flag == 1):\n",
        "   print(\"data entry is Successful\");\n",
        "  else:print(\"data is not entered Successfully\")\n",
        "  return\n"
      ],
      "metadata": {
        "id": "LaasdqWMjyJB"
      },
      "execution_count": 50,
      "outputs": []
    },
    {
      "cell_type": "code",
      "source": [
        "#display->function which show all the records\n",
        "\n",
        "def display():\n",
        "  print(\"This is all the data found in records:\")\n",
        "  for i in range(len(Name)):\n",
        "    print(\"Name = \",Name[i],\"\\n\",\"Roll number = \",Roll_Number[i],\"\\n\",\"Father name = \",Father_Name[i],\"\\n\",\"phone number = \",Phone_Number[i])\n",
        "\n",
        "  return\n"
      ],
      "metadata": {
        "id": "pGAgv-3NtAeB"
      },
      "execution_count": 32,
      "outputs": []
    },
    {
      "cell_type": "code",
      "source": [
        "#Search ->function which find a particular record\n",
        "\n",
        "\n",
        "def search():\n",
        " found = False\n",
        " rnum = int(input(\"enter the roll number for search:\"))\n",
        " for i in range (len(Name)):\n",
        "   if(Roll_Number[i] == rnum):\n",
        "     print(\"Name = \",Name[i],\"\\n\",\"Roll number = \",Roll_Number[i],\"\\n\",\"Father name = \",Father_Name[i],\"\\n\",\"phone number = \",Phone_Number[i])\n",
        "     found = True\n",
        "     break\n",
        " if found == False:\n",
        "  print(\"Student with roll number\", rnum, \"not found.\")\n",
        " return"
      ],
      "metadata": {
        "id": "OwpAVHMev1p2"
      },
      "execution_count": 34,
      "outputs": []
    },
    {
      "cell_type": "code",
      "source": [
        "#delete->function to delete a particular data\n",
        "\n",
        "def delete():\n",
        "   rnum = int(input(\"enter the roll number for delete:\"))\n",
        "   for i in range(len(Name)):\n",
        "    if(rnum == Roll_Number[i]):\n",
        "      Name.pop(i)\n",
        "      Roll_Number.pop(i)\n",
        "      Father_Name.pop(i)\n",
        "      Phone_Number.pop(i)\n",
        "      found = True\n",
        "      print(\"Deleted Successfully\")\n",
        "      break\n",
        "   if found == False:\n",
        "     print(\"Student with roll number\", rnum, \"not found for deletion.\")\n",
        "   return"
      ],
      "metadata": {
        "id": "A16iCL2xU_n9"
      },
      "execution_count": null,
      "outputs": []
    },
    {
      "cell_type": "code",
      "source": [
        "\n",
        "while True:\n",
        "    choice = int(input(\"Enter your choice between them:\\n1.Accept\\n2.Display\\n3.Search\\n4.Delete\\n\"))\n",
        "\n",
        "    if choice == 1:\n",
        "        accept()\n",
        "    elif choice == 2:\n",
        "        display()\n",
        "    elif choice == 3:\n",
        "        search()\n",
        "    elif choice == 4:\n",
        "        delete()\n",
        "    else:\n",
        "        print(\"Invalid choice. Please enter a valid option.\")\n",
        ""
      ],
      "metadata": {
        "id": "6nxur4E6YJTb"
      },
      "execution_count": null,
      "outputs": []
    }
  ]
}